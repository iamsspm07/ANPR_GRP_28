{
 "cells": [
  {
   "cell_type": "code",
   "execution_count": null,
   "metadata": {},
   "outputs": [],
   "source": [
    "from flask import Flask, render_template, request\n",
    "import os \n",
    "from deeplearning import object_detection\n",
    "\n",
    "# Web server gateway interface\n",
    "app = Flask(__name__)\n",
    "\n",
    "BASE_PATH = os.getcwd()\n",
    "UPLOAD_PATH = os.path.join(BASE_PATH, 'static', 'upload')\n",
    "\n",
    "@app.route('/car', methods=['POST', 'GET'])\n",
    "def index():\n",
    "    if request.method == 'POST':\n",
    "        if 'image_name' not in request.files:\n",
    "            return render_template('index.html', upload=False, error='No file part')\n",
    "\n",
    "        upload_file = request.files['image_name']\n",
    "\n",
    "        if upload_file.filename == '':\n",
    "            return render_template('index.html', upload=False, error='No selected file')\n",
    "\n",
    "        filename = os.path.join(UPLOAD_PATH, upload_file.filename)\n",
    "        upload_file.save(filename)\n",
    "        \n",
    "        text_list = object_detection(filename, upload_file.filename)\n",
    "        print(text_list)\n",
    "\n",
    "        return render_template('index.html', upload=True, upload_image=upload_file.filename, text=text_list, no=len(text_list))\n",
    "\n",
    "    return render_template('index.html', upload=False)\n",
    "\n",
    "if __name__ == \"__main__\":\n",
    "    app.run(debug=True, use_reloader=False)\n",
    "\n"
   ]
  },
  {
   "cell_type": "code",
   "execution_count": null,
   "metadata": {},
   "outputs": [],
   "source": []
  }
 ],
 "metadata": {
  "kernelspec": {
   "display_name": "base",
   "language": "python",
   "name": "python3"
  },
  "language_info": {
   "codemirror_mode": {
    "name": "ipython",
    "version": 3
   },
   "file_extension": ".py",
   "mimetype": "text/x-python",
   "name": "python",
   "nbconvert_exporter": "python",
   "pygments_lexer": "ipython3",
   "version": "3.11.5"
  }
 },
 "nbformat": 4,
 "nbformat_minor": 2
}
